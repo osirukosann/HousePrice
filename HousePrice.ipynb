{
 "cells": [
  {
   "cell_type": "code",
   "execution_count": 1,
   "id": "e7442027",
   "metadata": {
    "scrolled": true
   },
   "outputs": [
    {
     "name": "stdout",
     "output_type": "stream",
     "text": [
      "               0\n",
      "Id             0\n",
      "MSSubClass     0\n",
      "MSZoning       0\n",
      "LotFrontage    0\n",
      "LotArea        0\n",
      "...           ..\n",
      "MoSold         0\n",
      "YrSold         0\n",
      "SaleType       0\n",
      "SaleCondition  0\n",
      "SalePrice      0\n",
      "\n",
      "[81 rows x 1 columns]\n"
     ]
    }
   ],
   "source": [
    "import pandas as pd\n",
    "train = pd.read_csv(\"./train.csv\", na_filter=False)\n",
    "train_df = train.isnull().sum()\n",
    "table = pd.concat([train_df], axis=1)\n",
    "print(table)"
   ]
  },
  {
   "cell_type": "code",
   "execution_count": 2,
   "id": "dc65791f",
   "metadata": {
    "scrolled": false
   },
   "outputs": [
    {
     "name": "stdout",
     "output_type": "stream",
     "text": [
      "Counter({'TA': 1311, 'NA': 81, 'Fa': 48, 'Gd': 14, 'Ex': 3, 'Po': 3})\n",
      "Counter({1: 1376, 0: 84})\n"
     ]
    }
   ],
   "source": [
    "from collections import Counter\n",
    "print(Counter(train['GarageQual']))\n",
    "train['GarageQual'] = train['GarageQual'].map({'NA': 0, 'Ex': 1, 'Gd': 1, 'TA': 1, 'Fa': 1, 'Po': 0}).astype(int)\n",
    "print(Counter(train['GarageQual']))"
   ]
  },
  {
   "cell_type": "code",
   "execution_count": 3,
   "id": "da00aade",
   "metadata": {},
   "outputs": [],
   "source": [
    "test = pd.read_csv(\"./test.csv\", na_filter=False)"
   ]
  },
  {
   "cell_type": "code",
   "execution_count": 4,
   "id": "2f19d288",
   "metadata": {},
   "outputs": [],
   "source": [
    "test['GarageQual'] = test['GarageQual'].map({'NA': 0, 'Ex': 1, 'Gd': 1, 'TA': 1, 'Fa': 1, 'Po': 0}).astype(int)"
   ]
  },
  {
   "cell_type": "code",
   "execution_count": 5,
   "id": "b0f3773c",
   "metadata": {},
   "outputs": [],
   "source": [
    "test_features = test[[\"OverallQual\", \"OverallCond\", \"GarageQual\"]].values"
   ]
  },
  {
   "cell_type": "code",
   "execution_count": 6,
   "id": "1ad69a7a",
   "metadata": {
    "scrolled": true
   },
   "outputs": [],
   "source": [
    "features = train[[\"OverallQual\", \"OverallCond\", \"GarageQual\"]].values"
   ]
  },
  {
   "cell_type": "code",
   "execution_count": 7,
   "id": "ea1a882e",
   "metadata": {},
   "outputs": [],
   "source": [
    "target = train[\"SalePrice\"].values"
   ]
  },
  {
   "cell_type": "code",
   "execution_count": 8,
   "id": "3fbc2a27",
   "metadata": {},
   "outputs": [],
   "source": [
    "from sklearn.tree import DecisionTreeClassifier\n",
    "tree = DecisionTreeClassifier()\n",
    "tree = tree.fit(features, target)"
   ]
  },
  {
   "cell_type": "code",
   "execution_count": 9,
   "id": "339bb3a6",
   "metadata": {},
   "outputs": [
    {
     "name": "stdout",
     "output_type": "stream",
     "text": [
      "[139000 171000 145000 ... 135000  84500 180000]\n"
     ]
    }
   ],
   "source": [
    "prediction = tree.predict(test_features)\n",
    "print(prediction)"
   ]
  },
  {
   "cell_type": "code",
   "execution_count": 10,
   "id": "464a7d54",
   "metadata": {},
   "outputs": [],
   "source": [
    "import numpy as np\n",
    "Id = np.array(test[\"Id\"]).astype(int)\n",
    "result = pd.DataFrame(prediction, Id, columns=[\"SalePrice\"])\n",
    "result.to_csv(\"result.csv\", index_label=[\"Id\"])"
   ]
  },
  {
   "cell_type": "code",
   "execution_count": null,
   "id": "90411ff7",
   "metadata": {},
   "outputs": [],
   "source": []
  }
 ],
 "metadata": {
  "kernelspec": {
   "display_name": "Python 3 (ipykernel)",
   "language": "python",
   "name": "python3"
  },
  "language_info": {
   "codemirror_mode": {
    "name": "ipython",
    "version": 3
   },
   "file_extension": ".py",
   "mimetype": "text/x-python",
   "name": "python",
   "nbconvert_exporter": "python",
   "pygments_lexer": "ipython3",
   "version": "3.7.10"
  }
 },
 "nbformat": 4,
 "nbformat_minor": 5
}
